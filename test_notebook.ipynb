%matplotlib inline

import matplotlib
import numpy as np
import matplotlib.pyplot as plt


x = np.arange(-20,20)
y = x**2

plt(x,y)
plt.show()
